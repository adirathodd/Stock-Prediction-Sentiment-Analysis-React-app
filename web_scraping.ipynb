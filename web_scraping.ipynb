{
 "cells": [
  {
   "cell_type": "code",
   "execution_count": 1,
   "metadata": {},
   "outputs": [],
   "source": [
    "from urllib.request import Request, urlopen\n",
    "from bs4 import BeautifulSoup\n",
    "from nltk.sentiment.vader import SentimentIntensityAnalyzer\n",
    "import pandas as pd"
   ]
  },
  {
   "cell_type": "code",
   "execution_count": 2,
   "metadata": {},
   "outputs": [],
   "source": [
    "request = Request(url='https://finviz.com/quote.ashx?t=AAPL', headers={'user-agent': \"titan\"})\n",
    "response = urlopen(request)\n",
    "html = BeautifulSoup(response, 'html')\n",
    "news_table = html.find(id=\"news-table\")"
   ]
  },
  {
   "cell_type": "code",
   "execution_count": 3,
   "metadata": {},
   "outputs": [],
   "source": [
    "rows = news_table.find_all(\"tr\")\n",
    "headlines = []\n",
    "date = \"Jul-20-2024\"\n",
    "for index, row in enumerate(rows):\n",
    "    if row.a:\n",
    "        title = row.a.text\n",
    "        timestamp = row.td.text.strip().split(\" \")\n",
    "        \n",
    "        if len(timestamp) == 1:\n",
    "            time = timestamp[0]\n",
    "        else:\n",
    "            if timestamp[0] != 'Today':\n",
    "                date = timestamp[0]\n",
    "            time = timestamp[1]\n",
    "        \n",
    "        headlines.append([date, time, title])\n",
    "\n",
    "vader = SentimentIntensityAnalyzer()\n",
    "for headline in headlines:\n",
    "    compound = vader.polarity_scores(headline[2])['compound']\n",
    "    headline.append(compound)"
   ]
  },
  {
   "cell_type": "code",
   "execution_count": 4,
   "metadata": {},
   "outputs": [
    {
     "name": "stdout",
     "output_type": "stream",
     "text": [
      "           Date     Time                                           Headline  \\\n",
      "0   Jul-20-2024  12:14PM  Zuckerberg's Meta is Filing Smartglasses relat...   \n",
      "1   Jul-20-2024  08:21AM            Where Will Nvidia Stock Be in 20 Years?   \n",
      "2   Jul-20-2024  05:30AM  TikTok fails to reverse EU decision that trigg...   \n",
      "3     Jul-19-24  05:28PM  Magnificent Seven Stocks: Nvidia Stock Slides ...   \n",
      "4     Jul-19-24  12:37PM  Apples AI iPhone Turns Skeptics Into Bulls and...   \n",
      "..          ...      ...                                                ...   \n",
      "95    Jul-15-24  09:39AM  Apple upgraded, Electronic Arts downgraded: Wa...   \n",
      "96    Jul-15-24  09:35AM  Tech in Kuala Lumpur: Apple arrives  Samsung m...   \n",
      "97    Jul-15-24  09:13AM  Apples iPhone Growth Is Slowing. Brace for Mor...   \n",
      "98    Jul-15-24  08:49AM  Apple, Samsung Smartphone Shipments Up But Chi...   \n",
      "99    Jul-15-24  08:40AM     Google might make its biggest acquisition ever   \n",
      "\n",
      "     Score  \n",
      "0   0.0000  \n",
      "1   0.0000  \n",
      "2  -0.4215  \n",
      "3   0.5994  \n",
      "4  -0.1027  \n",
      "..     ...  \n",
      "95  0.2023  \n",
      "96  0.4404  \n",
      "97  0.1796  \n",
      "98  0.4767  \n",
      "99  0.0000  \n",
      "\n",
      "[100 rows x 4 columns]\n"
     ]
    }
   ],
   "source": [
    "df = pd.DataFrame(headlines, columns=[\"Date\", \"Time\", \"Headline\", \"Score\"])\n",
    "\n",
    "print(df)"
   ]
  }
 ],
 "metadata": {
  "kernelspec": {
   "display_name": ".venv",
   "language": "python",
   "name": "python3"
  },
  "language_info": {
   "codemirror_mode": {
    "name": "ipython",
    "version": 3
   },
   "file_extension": ".py",
   "mimetype": "text/x-python",
   "name": "python",
   "nbconvert_exporter": "python",
   "pygments_lexer": "ipython3",
   "version": "3.12.4"
  }
 },
 "nbformat": 4,
 "nbformat_minor": 2
}
